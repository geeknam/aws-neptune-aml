{
 "cells": [
  {
   "cell_type": "code",
   "execution_count": 40,
   "metadata": {},
   "outputs": [],
   "source": [
    "import findspark\n",
    "findspark.init()\n",
    "from pyspark.context import SparkContext\n",
    "from pyspark.sql import SQLContext\n",
    "from pyspark.sql.functions import lit, monotonically_increasing_id, col"
   ]
  },
  {
   "cell_type": "code",
   "execution_count": 2,
   "metadata": {},
   "outputs": [],
   "source": [
    "sc = SparkContext.getOrCreate()"
   ]
  },
  {
   "cell_type": "code",
   "execution_count": 3,
   "metadata": {},
   "outputs": [],
   "source": [
    "sql_context = SQLContext(sc)"
   ]
  },
  {
   "cell_type": "code",
   "execution_count": 4,
   "metadata": {},
   "outputs": [],
   "source": [
    "df = sql_context.read.format('com.databricks.spark.csv')\\\n",
    "        .options(header='true', inferschema='true')\\\n",
    "        .load('/Users/namngo/personal/neptune/data/PS_20174392719_1491204439457_log.csv')"
   ]
  },
  {
   "cell_type": "code",
   "execution_count": 5,
   "metadata": {},
   "outputs": [
    {
     "name": "stdout",
     "output_type": "stream",
     "text": [
      "root\n",
      " |-- step: integer (nullable = true)\n",
      " |-- type: string (nullable = true)\n",
      " |-- amount: double (nullable = true)\n",
      " |-- nameOrig: string (nullable = true)\n",
      " |-- oldbalanceOrg: double (nullable = true)\n",
      " |-- newbalanceOrig: double (nullable = true)\n",
      " |-- nameDest: string (nullable = true)\n",
      " |-- oldbalanceDest: double (nullable = true)\n",
      " |-- newbalanceDest: double (nullable = true)\n",
      " |-- isFraud: integer (nullable = true)\n",
      " |-- isFlaggedFraud: integer (nullable = true)\n",
      "\n"
     ]
    }
   ],
   "source": [
    "df.printSchema()"
   ]
  },
  {
   "cell_type": "code",
   "execution_count": 50,
   "metadata": {},
   "outputs": [
    {
     "name": "stdout",
     "output_type": "stream",
     "text": [
      "+----+--------+--------+-----------+-------------+--------------+-----------+--------------+--------------+-------+--------------+\n",
      "|step|type    |amount  |nameOrig   |oldbalanceOrg|newbalanceOrig|nameDest   |oldbalanceDest|newbalanceDest|isFraud|isFlaggedFraud|\n",
      "+----+--------+--------+-----------+-------------+--------------+-----------+--------------+--------------+-------+--------------+\n",
      "|1   |PAYMENT |9839.64 |C1231006815|170136.0     |160296.36     |M1979787155|0.0           |0.0           |0      |0             |\n",
      "|1   |PAYMENT |1864.28 |C1666544295|21249.0      |19384.72      |M2044282225|0.0           |0.0           |0      |0             |\n",
      "|1   |TRANSFER|181.0   |C1305486145|181.0        |0.0           |C553264065 |0.0           |0.0           |1      |0             |\n",
      "|1   |CASH_OUT|181.0   |C840083671 |181.0        |0.0           |C38997010  |21182.0       |0.0           |1      |0             |\n",
      "|1   |PAYMENT |11668.14|C2048537720|41554.0      |29885.86      |M1230701703|0.0           |0.0           |0      |0             |\n",
      "+----+--------+--------+-----------+-------------+--------------+-----------+--------------+--------------+-------+--------------+\n",
      "only showing top 5 rows\n",
      "\n"
     ]
    }
   ],
   "source": [
    "df.show(5, False)"
   ]
  },
  {
   "cell_type": "code",
   "execution_count": 12,
   "metadata": {},
   "outputs": [],
   "source": [
    "orig_account_df = df.select('nameOrig').distinct()"
   ]
  },
  {
   "cell_type": "code",
   "execution_count": 13,
   "metadata": {},
   "outputs": [],
   "source": [
    "dest_account_df = df.select('nameDest').distinct()"
   ]
  },
  {
   "cell_type": "code",
   "execution_count": 18,
   "metadata": {},
   "outputs": [],
   "source": [
    "all_account_df = orig_account_df.union(dest_account_df).distinct()"
   ]
  },
  {
   "cell_type": "code",
   "execution_count": 29,
   "metadata": {},
   "outputs": [],
   "source": [
    "accounts = all_account_df.withColumnRenamed('nameOrig', '~id').withColumn('~label', lit('ACCOUNT'))"
   ]
  },
  {
   "cell_type": "code",
   "execution_count": 31,
   "metadata": {},
   "outputs": [
    {
     "name": "stdout",
     "output_type": "stream",
     "text": [
      "+-----------+-------+\n",
      "|        ~id| ~label|\n",
      "+-----------+-------+\n",
      "| C100021340|ACCOUNT|\n",
      "|C1000262126|ACCOUNT|\n",
      "|C1000507192|ACCOUNT|\n",
      "|C1000547990|ACCOUNT|\n",
      "+-----------+-------+\n",
      "only showing top 4 rows\n",
      "\n"
     ]
    }
   ],
   "source": [
    "accounts.show(4)"
   ]
  },
  {
   "cell_type": "code",
   "execution_count": 38,
   "metadata": {},
   "outputs": [],
   "source": [
    "accounts.write.format('com.databricks.spark.csv')\\\n",
    "    .mode('overwrite')\\\n",
    "    .options(header=\"true\")\\\n",
    "    .save('/Users/namngo/Desktop/aml-accounts')"
   ]
  },
  {
   "cell_type": "code",
   "execution_count": 59,
   "metadata": {},
   "outputs": [],
   "source": [
    "transactions = df\\\n",
    "    .withColumn('~id', monotonically_increasing_id())\\\n",
    "    .withColumnRenamed('nameOrig', '~from')\\\n",
    "    .withColumnRenamed('nameDest', '~to')\\\n",
    "    .withColumnRenamed('type', '~label')\\\n",
    "    .withColumnRenamed('amount', 'amount:Double')\\\n",
    "    .withColumnRenamed('oldbalanceOrg', 'oldbalanceOrg:Double')\\\n",
    "    .withColumnRenamed('newbalanceOrig', 'newbalanceOrig:Double')\\\n",
    "    .withColumnRenamed('oldbalanceDest', 'oldbalanceDest:Double')\\\n",
    "    .withColumnRenamed('newbalanceDest', 'newbalanceDest:Double')\\\n",
    "    .withColumnRenamed('isFraud', 'isFraud:Int')\\\n",
    "    .withColumnRenamed('isFlaggedFraud', 'isFlaggedFraud:Int')\\\n",
    "    .select(\n",
    "        '~id', '~label', '~from', '~to', 'amount:Double',\n",
    "        'oldbalanceOrg:Double', 'newbalanceOrig:Double',\n",
    "        'oldbalanceDest:Double', 'newbalanceDest:Double',\n",
    "        'isFraud:Int', 'isFlaggedFraud:Int',\n",
    "    )\n",
    "\n",
    "transactions.write.format('com.databricks.spark.csv')\\\n",
    "    .mode('overwrite')\\\n",
    "    .options(header=\"true\")\\\n",
    "    .save('/Users/namngo/Desktop/aml-transactions')"
   ]
  },
  {
   "cell_type": "code",
   "execution_count": null,
   "metadata": {},
   "outputs": [],
   "source": []
  }
 ],
 "metadata": {
  "kernelspec": {
   "display_name": "Python 2",
   "language": "python",
   "name": "python2"
  },
  "language_info": {
   "codemirror_mode": {
    "name": "ipython",
    "version": 2
   },
   "file_extension": ".py",
   "mimetype": "text/x-python",
   "name": "python",
   "nbconvert_exporter": "python",
   "pygments_lexer": "ipython2",
   "version": "2.7.15"
  }
 },
 "nbformat": 4,
 "nbformat_minor": 2
}
